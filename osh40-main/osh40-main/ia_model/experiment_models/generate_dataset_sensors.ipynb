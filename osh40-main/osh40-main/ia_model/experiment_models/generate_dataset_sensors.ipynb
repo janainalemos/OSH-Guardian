{
 "cells": [
  {
   "cell_type": "markdown",
   "id": "22e7f28f",
   "metadata": {},
   "source": [
    "## 1. Generate Dataset variations"
   ]
  },
  {
   "cell_type": "code",
   "execution_count": 3,
   "id": "d27f874b",
   "metadata": {},
   "outputs": [
    {
     "name": "stdout",
     "output_type": "stream",
     "text": [
      "/home/vanessa/PycharmProjects/osh40\n"
     ]
    }
   ],
   "source": [
    "ROOT_PATH=%cd ..\n",
    "ROOT_PATH='/home/vanessa/PycharmProjects/osh40'"
   ]
  },
  {
   "cell_type": "code",
   "execution_count": 4,
   "id": "84750f86",
   "metadata": {},
   "outputs": [],
   "source": [
    "import pandas as pd\n",
    "import numpy as np\n",
    "from utils.preprocess_data import PreprocessData"
   ]
  },
  {
   "cell_type": "markdown",
   "id": "da113c70",
   "metadata": {},
   "source": [
    "### 1.0 Create datasets"
   ]
  },
  {
   "cell_type": "code",
   "execution_count": 4,
   "id": "52596802",
   "metadata": {
    "collapsed": true
   },
   "outputs": [],
   "source": [
    "pd_data = PreprocessData()\n",
    "SUBSET_TYPES = ['train', 'valid', 'test']\n",
    "SENSOR_VALUES = [\n",
    "    {'dataset_dst': 'uv_sensor/uv_only_value_{}', 'sensor': 'ultraviolet', 'path_test': '/home/vanessa/PycharmProjects/osh40/ia_model/datasets/uv_sensor/uv_only_value_{}.{}'},\n",
    "    {'dataset_dst': 'dust_sensor/dust_only_value_{}', 'sensor': 'dust', 'path_test': '/home/vanessa/PycharmProjects/osh40/ia_model/datasets/dust_sensor/dust_only_value_{}.{}'},\n",
    "    {'dataset_dst': 'light_sensor/light_only_value_{}', 'sensor': 'luminosity', 'path_test': '/home/vanessa/PycharmProjects/osh40/ia_model/datasets/light_sensor/light_only_value_{}.{}'},\n",
    "    {'dataset_dst': 'noise_sensor/noise_only_value_{}', 'sensor': 'noise', 'path_test': '/home/vanessa/PycharmProjects/osh40/ia_model/datasets/noise_sensor/noise_only_value_{}.{}'},\n",
    "    {'dataset_dst': 'hum_tmp_sensor/hum_tmp_only_value_{}', 'sensor': 'humidity,temperature', 'path_test': '/home/vanessa/PycharmProjects/osh40/ia_model/datasets/hum_tmp_sensor/hum_tmp_only_value_{}.{}'},\n",
    "    {'dataset_dst': 'hum_tmp_sensor/hum_tmp_not_only_value_{}', 'sensor': 'humidity,temperature', 'path_test': '/home/vanessa/PycharmProjects/osh40/ia_model/datasets/hum_tmp_sensor/hum_tmp_not_only_value_{}.{}'}\n",
    "]\n",
    "    "
   ]
  },
  {
   "cell_type": "code",
   "execution_count": 5,
   "id": "0386652a",
   "metadata": {},
   "outputs": [
    {
     "name": "stderr",
     "output_type": "stream",
     "text": [
      "/home/vanessa/PycharmProjects/osh40/ia_model/connectors/postgres.py:71: UserWarning: pandas only supports SQLAlchemy connectable (engine/connection) or database string URI or sqlite3 DBAPI2 connection. Other DBAPI2 objects are not tested. Please consider using SQLAlchemy.\n",
      "  data_df = pd.read_sql_query(sql_command, conn)\n"
     ]
    },
    {
     "name": "stdout",
     "output_type": "stream",
     "text": [
      "Pandas dataset uv_sensor/uv_only_value_train: \n",
      "   id subset_type  value  data_class\n",
      "0   1       train    1.5           1\n",
      "1   1       train    1.5           1\n",
      "2   1       train    1.4           1\n",
      "3   1       train    1.6           1\n",
      "4   1       train    1.4           1\n",
      "5   1       train    1.6           1\n",
      "Numpy dataset uv_sensor/uv_only_value_train: \n",
      "[1.5 1.5 1.4 1.6 1.4 1.6 1. ]\n"
     ]
    },
    {
     "name": "stderr",
     "output_type": "stream",
     "text": [
      "/home/vanessa/PycharmProjects/osh40/ia_model/connectors/postgres.py:71: UserWarning: pandas only supports SQLAlchemy connectable (engine/connection) or database string URI or sqlite3 DBAPI2 connection. Other DBAPI2 objects are not tested. Please consider using SQLAlchemy.\n",
      "  data_df = pd.read_sql_query(sql_command, conn)\n"
     ]
    },
    {
     "name": "stdout",
     "output_type": "stream",
     "text": [
      "Pandas dataset dust_sensor/dust_only_value_train: \n",
      "   id subset_type       value  data_class\n",
      "0   1       train   7242772.0           1\n",
      "1   1       train  11525648.0           1\n",
      "2   1       train   8950155.0           1\n",
      "3   1       train  12096088.0           1\n",
      "4   1       train  23449298.0           1\n",
      "5   1       train   9938180.0           1\n",
      "Numpy dataset dust_sensor/dust_only_value_train: \n",
      "[7.2427720e+06 1.1525648e+07 8.9501550e+06 1.2096088e+07 2.3449298e+07\n",
      " 9.9381800e+06 1.0000000e+00]\n"
     ]
    },
    {
     "name": "stderr",
     "output_type": "stream",
     "text": [
      "/home/vanessa/PycharmProjects/osh40/ia_model/connectors/postgres.py:71: UserWarning: pandas only supports SQLAlchemy connectable (engine/connection) or database string URI or sqlite3 DBAPI2 connection. Other DBAPI2 objects are not tested. Please consider using SQLAlchemy.\n",
      "  data_df = pd.read_sql_query(sql_command, conn)\n"
     ]
    },
    {
     "name": "stdout",
     "output_type": "stream",
     "text": [
      "Pandas dataset light_sensor/light_only_value_train: \n",
      "   id subset_type  value  data_class\n",
      "0   1       train    5.0           1\n",
      "1   1       train    1.0           1\n",
      "2   1       train    4.0           1\n",
      "3   1       train    3.0           1\n",
      "4   1       train    2.0           1\n",
      "5   1       train    2.0           1\n",
      "Numpy dataset light_sensor/light_only_value_train: \n",
      "[5. 1. 4. 3. 2. 2. 1.]\n"
     ]
    },
    {
     "name": "stderr",
     "output_type": "stream",
     "text": [
      "/home/vanessa/PycharmProjects/osh40/ia_model/connectors/postgres.py:71: UserWarning: pandas only supports SQLAlchemy connectable (engine/connection) or database string URI or sqlite3 DBAPI2 connection. Other DBAPI2 objects are not tested. Please consider using SQLAlchemy.\n",
      "  data_df = pd.read_sql_query(sql_command, conn)\n"
     ]
    },
    {
     "name": "stdout",
     "output_type": "stream",
     "text": [
      "Pandas dataset noise_sensor/noise_only_value_train: \n",
      "   id subset_type  value  data_class\n",
      "0   1       train   89.0           1\n",
      "1   1       train   85.0           1\n",
      "2   1       train   87.0           1\n",
      "3   1       train   85.0           1\n",
      "4   1       train   90.0           1\n",
      "5   1       train   85.0           1\n",
      "Numpy dataset noise_sensor/noise_only_value_train: \n",
      "[89. 85. 87. 85. 90. 85.  1.]\n"
     ]
    },
    {
     "name": "stderr",
     "output_type": "stream",
     "text": [
      "/home/vanessa/PycharmProjects/osh40/ia_model/connectors/postgres.py:71: UserWarning: pandas only supports SQLAlchemy connectable (engine/connection) or database string URI or sqlite3 DBAPI2 connection. Other DBAPI2 objects are not tested. Please consider using SQLAlchemy.\n",
      "  data_df = pd.read_sql_query(sql_command, conn)\n",
      "/home/vanessa/PycharmProjects/osh40/ia_model/connectors/postgres.py:71: UserWarning: pandas only supports SQLAlchemy connectable (engine/connection) or database string URI or sqlite3 DBAPI2 connection. Other DBAPI2 objects are not tested. Please consider using SQLAlchemy.\n",
      "  data_df = pd.read_sql_query(sql_command, conn)\n"
     ]
    },
    {
     "name": "stdout",
     "output_type": "stream",
     "text": [
      "Pandas dataset hum_tmp_sensor/hum_tmp_only_value_train: \n",
      "   id humidity_subset_type  humidity_value  humidity_class  temperature_value\n",
      "0   1                train            68.0               1               21.3\n",
      "1   1                train            70.0               1               20.7\n",
      "2   1                train            68.0               1               21.7\n",
      "3   1                train            69.0               1               19.0\n",
      "4   1                train            71.0               1               19.3\n",
      "5   1                train            68.0               1               20.2\n",
      "Numpy dataset hum_tmp_sensor/hum_tmp_only_value_train: \n",
      "[68.  21.3 70.  20.7 68.  21.7 69.  19.  71.  19.3 68.  20.2  1. ]\n"
     ]
    },
    {
     "name": "stderr",
     "output_type": "stream",
     "text": [
      "/home/vanessa/PycharmProjects/osh40/ia_model/connectors/postgres.py:71: UserWarning: pandas only supports SQLAlchemy connectable (engine/connection) or database string URI or sqlite3 DBAPI2 connection. Other DBAPI2 objects are not tested. Please consider using SQLAlchemy.\n",
      "  data_df = pd.read_sql_query(sql_command, conn)\n",
      "/home/vanessa/PycharmProjects/osh40/ia_model/connectors/postgres.py:71: UserWarning: pandas only supports SQLAlchemy connectable (engine/connection) or database string URI or sqlite3 DBAPI2 connection. Other DBAPI2 objects are not tested. Please consider using SQLAlchemy.\n",
      "  data_df = pd.read_sql_query(sql_command, conn)\n"
     ]
    },
    {
     "name": "stdout",
     "output_type": "stream",
     "text": [
      "Pandas dataset hum_tmp_sensor/hum_tmp_not_only_value_train: \n",
      "   id humidity_subset_type  humidity_value  humidity_class  temperature_value\n",
      "0   1                train            68.0               1               21.3\n",
      "1   1                train            70.0               1               20.7\n",
      "2   1                train            68.0               1               21.7\n",
      "3   1                train            69.0               1               19.0\n",
      "4   1                train            71.0               1               19.3\n",
      "5   1                train            68.0               1               20.2\n",
      "Numpy dataset hum_tmp_sensor/hum_tmp_not_only_value_train: \n",
      "[68.  70.  68.  69.  71.  68.  21.3 20.7 21.7 19.  19.3 20.2  1. ]\n"
     ]
    },
    {
     "name": "stderr",
     "output_type": "stream",
     "text": [
      "/home/vanessa/PycharmProjects/osh40/ia_model/connectors/postgres.py:71: UserWarning: pandas only supports SQLAlchemy connectable (engine/connection) or database string URI or sqlite3 DBAPI2 connection. Other DBAPI2 objects are not tested. Please consider using SQLAlchemy.\n",
      "  data_df = pd.read_sql_query(sql_command, conn)\n"
     ]
    },
    {
     "name": "stdout",
     "output_type": "stream",
     "text": [
      "Pandas dataset uv_sensor/uv_only_value_valid: \n",
      "     id subset_type  value  data_class\n",
      "0  2161       valid    1.5           1\n",
      "1  2161       valid    1.4           1\n",
      "2  2161       valid    1.5           1\n",
      "3  2161       valid    1.4           1\n",
      "4  2161       valid    1.6           1\n",
      "5  2161       valid    1.4           1\n",
      "Numpy dataset uv_sensor/uv_only_value_valid: \n",
      "[1.5 1.4 1.5 1.4 1.6 1.4 1. ]\n"
     ]
    },
    {
     "name": "stderr",
     "output_type": "stream",
     "text": [
      "/home/vanessa/PycharmProjects/osh40/ia_model/connectors/postgres.py:71: UserWarning: pandas only supports SQLAlchemy connectable (engine/connection) or database string URI or sqlite3 DBAPI2 connection. Other DBAPI2 objects are not tested. Please consider using SQLAlchemy.\n",
      "  data_df = pd.read_sql_query(sql_command, conn)\n"
     ]
    },
    {
     "name": "stdout",
     "output_type": "stream",
     "text": [
      "Pandas dataset dust_sensor/dust_only_value_valid: \n",
      "     id subset_type       value  data_class\n",
      "0  2161       valid   2614217.0           1\n",
      "1  2161       valid  17847121.0           1\n",
      "2  2161       valid  18105098.0           1\n",
      "3  2161       valid  27882024.0           1\n",
      "4  2161       valid  24957103.0           1\n",
      "5  2161       valid  23118705.0           1\n",
      "Numpy dataset dust_sensor/dust_only_value_valid: \n",
      "[2.6142170e+06 1.7847121e+07 1.8105098e+07 2.7882024e+07 2.4957103e+07\n",
      " 2.3118705e+07 1.0000000e+00]\n"
     ]
    },
    {
     "name": "stderr",
     "output_type": "stream",
     "text": [
      "/home/vanessa/PycharmProjects/osh40/ia_model/connectors/postgres.py:71: UserWarning: pandas only supports SQLAlchemy connectable (engine/connection) or database string URI or sqlite3 DBAPI2 connection. Other DBAPI2 objects are not tested. Please consider using SQLAlchemy.\n",
      "  data_df = pd.read_sql_query(sql_command, conn)\n"
     ]
    },
    {
     "name": "stdout",
     "output_type": "stream",
     "text": [
      "Pandas dataset light_sensor/light_only_value_valid: \n",
      "     id subset_type  value  data_class\n",
      "0  2161       valid    4.0           1\n",
      "1  2161       valid    1.0           1\n",
      "2  2161       valid    2.0           1\n",
      "3  2161       valid    3.0           1\n",
      "4  2161       valid    5.0           1\n",
      "5  2161       valid    5.0           1\n",
      "Numpy dataset light_sensor/light_only_value_valid: \n",
      "[4. 1. 2. 3. 5. 5. 1.]\n"
     ]
    },
    {
     "name": "stderr",
     "output_type": "stream",
     "text": [
      "/home/vanessa/PycharmProjects/osh40/ia_model/connectors/postgres.py:71: UserWarning: pandas only supports SQLAlchemy connectable (engine/connection) or database string URI or sqlite3 DBAPI2 connection. Other DBAPI2 objects are not tested. Please consider using SQLAlchemy.\n",
      "  data_df = pd.read_sql_query(sql_command, conn)\n"
     ]
    },
    {
     "name": "stdout",
     "output_type": "stream",
     "text": [
      "Pandas dataset noise_sensor/noise_only_value_valid: \n",
      "     id subset_type  value  data_class\n",
      "0  2161       valid   88.0           1\n",
      "1  2161       valid   86.0           1\n",
      "2  2161       valid   90.0           1\n",
      "3  2161       valid   87.0           1\n",
      "4  2161       valid   89.0           1\n",
      "5  2161       valid   89.0           1\n",
      "Numpy dataset noise_sensor/noise_only_value_valid: \n",
      "[88. 86. 90. 87. 89. 89.  1.]\n"
     ]
    },
    {
     "name": "stderr",
     "output_type": "stream",
     "text": [
      "/home/vanessa/PycharmProjects/osh40/ia_model/connectors/postgres.py:71: UserWarning: pandas only supports SQLAlchemy connectable (engine/connection) or database string URI or sqlite3 DBAPI2 connection. Other DBAPI2 objects are not tested. Please consider using SQLAlchemy.\n",
      "  data_df = pd.read_sql_query(sql_command, conn)\n",
      "/home/vanessa/PycharmProjects/osh40/ia_model/connectors/postgres.py:71: UserWarning: pandas only supports SQLAlchemy connectable (engine/connection) or database string URI or sqlite3 DBAPI2 connection. Other DBAPI2 objects are not tested. Please consider using SQLAlchemy.\n",
      "  data_df = pd.read_sql_query(sql_command, conn)\n"
     ]
    },
    {
     "name": "stdout",
     "output_type": "stream",
     "text": [
      "Pandas dataset hum_tmp_sensor/hum_tmp_only_value_valid: \n",
      "     id humidity_subset_type  humidity_value  humidity_class  \\\n",
      "0  2161                valid            69.0               1   \n",
      "1  2161                valid            71.0               1   \n",
      "2  2161                valid            71.0               1   \n",
      "3  2161                valid            68.0               1   \n",
      "4  2161                valid            68.0               1   \n",
      "5  2161                valid            71.0               1   \n",
      "\n",
      "   temperature_value  \n",
      "0               20.6  \n",
      "1               19.6  \n",
      "2               19.8  \n",
      "3               19.9  \n",
      "4               19.7  \n",
      "5               21.1  \n",
      "Numpy dataset hum_tmp_sensor/hum_tmp_only_value_valid: \n",
      "[69.  20.6 71.  19.6 71.  19.8 68.  19.9 68.  19.7 71.  21.1  1. ]\n"
     ]
    },
    {
     "name": "stderr",
     "output_type": "stream",
     "text": [
      "/home/vanessa/PycharmProjects/osh40/ia_model/connectors/postgres.py:71: UserWarning: pandas only supports SQLAlchemy connectable (engine/connection) or database string URI or sqlite3 DBAPI2 connection. Other DBAPI2 objects are not tested. Please consider using SQLAlchemy.\n",
      "  data_df = pd.read_sql_query(sql_command, conn)\n",
      "/home/vanessa/PycharmProjects/osh40/ia_model/connectors/postgres.py:71: UserWarning: pandas only supports SQLAlchemy connectable (engine/connection) or database string URI or sqlite3 DBAPI2 connection. Other DBAPI2 objects are not tested. Please consider using SQLAlchemy.\n",
      "  data_df = pd.read_sql_query(sql_command, conn)\n"
     ]
    },
    {
     "name": "stdout",
     "output_type": "stream",
     "text": [
      "Pandas dataset hum_tmp_sensor/hum_tmp_not_only_value_valid: \n",
      "     id humidity_subset_type  humidity_value  humidity_class  \\\n",
      "0  2161                valid            69.0               1   \n",
      "1  2161                valid            71.0               1   \n",
      "2  2161                valid            71.0               1   \n",
      "3  2161                valid            68.0               1   \n",
      "4  2161                valid            68.0               1   \n",
      "5  2161                valid            71.0               1   \n",
      "\n",
      "   temperature_value  \n",
      "0               20.6  \n",
      "1               19.6  \n",
      "2               19.8  \n",
      "3               19.9  \n",
      "4               19.7  \n",
      "5               21.1  \n",
      "Numpy dataset hum_tmp_sensor/hum_tmp_not_only_value_valid: \n",
      "[69.  71.  71.  68.  68.  71.  20.6 19.6 19.8 19.9 19.7 21.1  1. ]\n"
     ]
    },
    {
     "name": "stderr",
     "output_type": "stream",
     "text": [
      "/home/vanessa/PycharmProjects/osh40/ia_model/connectors/postgres.py:71: UserWarning: pandas only supports SQLAlchemy connectable (engine/connection) or database string URI or sqlite3 DBAPI2 connection. Other DBAPI2 objects are not tested. Please consider using SQLAlchemy.\n",
      "  data_df = pd.read_sql_query(sql_command, conn)\n"
     ]
    },
    {
     "name": "stdout",
     "output_type": "stream",
     "text": [
      "Pandas dataset uv_sensor/uv_only_value_test: \n",
      "     id subset_type  value  data_class\n",
      "0  1081        test    1.4           1\n",
      "1  1081        test    1.3           1\n",
      "2  1081        test    1.5           1\n",
      "3  1081        test    1.4           1\n",
      "4  1081        test    1.5           1\n",
      "5  1081        test    1.6           1\n",
      "Numpy dataset uv_sensor/uv_only_value_test: \n",
      "[1.4 1.3 1.5 1.4 1.5 1.6 1. ]\n"
     ]
    },
    {
     "name": "stderr",
     "output_type": "stream",
     "text": [
      "/home/vanessa/PycharmProjects/osh40/ia_model/connectors/postgres.py:71: UserWarning: pandas only supports SQLAlchemy connectable (engine/connection) or database string URI or sqlite3 DBAPI2 connection. Other DBAPI2 objects are not tested. Please consider using SQLAlchemy.\n",
      "  data_df = pd.read_sql_query(sql_command, conn)\n"
     ]
    },
    {
     "name": "stdout",
     "output_type": "stream",
     "text": [
      "Pandas dataset dust_sensor/dust_only_value_test: \n",
      "     id subset_type       value  data_class\n",
      "0  1081        test  17591136.0           1\n",
      "1  1081        test  19987795.0           1\n",
      "2  1081        test  27877454.0           1\n",
      "3  1081        test   1182970.0           1\n",
      "4  1081        test   6364529.0           1\n",
      "5  1081        test  13236230.0           1\n",
      "Numpy dataset dust_sensor/dust_only_value_test: \n",
      "[1.7591136e+07 1.9987795e+07 2.7877454e+07 1.1829700e+06 6.3645290e+06\n",
      " 1.3236230e+07 1.0000000e+00]\n"
     ]
    },
    {
     "name": "stderr",
     "output_type": "stream",
     "text": [
      "/home/vanessa/PycharmProjects/osh40/ia_model/connectors/postgres.py:71: UserWarning: pandas only supports SQLAlchemy connectable (engine/connection) or database string URI or sqlite3 DBAPI2 connection. Other DBAPI2 objects are not tested. Please consider using SQLAlchemy.\n",
      "  data_df = pd.read_sql_query(sql_command, conn)\n"
     ]
    },
    {
     "name": "stdout",
     "output_type": "stream",
     "text": [
      "Pandas dataset light_sensor/light_only_value_test: \n",
      "     id subset_type  value  data_class\n",
      "0  1081        test    4.0           1\n",
      "1  1081        test    1.0           1\n",
      "2  1081        test    3.0           1\n",
      "3  1081        test    2.0           1\n",
      "4  1081        test    5.0           1\n",
      "5  1081        test    5.0           1\n",
      "Numpy dataset light_sensor/light_only_value_test: \n",
      "[4. 1. 3. 2. 5. 5. 1.]\n"
     ]
    },
    {
     "name": "stderr",
     "output_type": "stream",
     "text": [
      "/home/vanessa/PycharmProjects/osh40/ia_model/connectors/postgres.py:71: UserWarning: pandas only supports SQLAlchemy connectable (engine/connection) or database string URI or sqlite3 DBAPI2 connection. Other DBAPI2 objects are not tested. Please consider using SQLAlchemy.\n",
      "  data_df = pd.read_sql_query(sql_command, conn)\n"
     ]
    },
    {
     "name": "stdout",
     "output_type": "stream",
     "text": [
      "Pandas dataset noise_sensor/noise_only_value_test: \n",
      "     id subset_type  value  data_class\n",
      "0  1081        test   87.0           1\n",
      "1  1081        test   85.0           1\n",
      "2  1081        test   88.0           1\n",
      "3  1081        test   87.0           1\n",
      "4  1081        test   86.0           1\n",
      "5  1081        test   89.0           1\n",
      "Numpy dataset noise_sensor/noise_only_value_test: \n",
      "[87. 85. 88. 87. 86. 89.  1.]\n"
     ]
    },
    {
     "name": "stderr",
     "output_type": "stream",
     "text": [
      "/home/vanessa/PycharmProjects/osh40/ia_model/connectors/postgres.py:71: UserWarning: pandas only supports SQLAlchemy connectable (engine/connection) or database string URI or sqlite3 DBAPI2 connection. Other DBAPI2 objects are not tested. Please consider using SQLAlchemy.\n",
      "  data_df = pd.read_sql_query(sql_command, conn)\n",
      "/home/vanessa/PycharmProjects/osh40/ia_model/connectors/postgres.py:71: UserWarning: pandas only supports SQLAlchemy connectable (engine/connection) or database string URI or sqlite3 DBAPI2 connection. Other DBAPI2 objects are not tested. Please consider using SQLAlchemy.\n",
      "  data_df = pd.read_sql_query(sql_command, conn)\n"
     ]
    },
    {
     "name": "stdout",
     "output_type": "stream",
     "text": [
      "Pandas dataset hum_tmp_sensor/hum_tmp_only_value_test: \n",
      "     id humidity_subset_type  humidity_value  humidity_class  \\\n",
      "0  1081                 test            68.0               1   \n",
      "1  1081                 test            71.0               1   \n",
      "2  1081                 test            70.0               1   \n",
      "3  1081                 test            69.0               1   \n",
      "4  1081                 test            71.0               1   \n",
      "5  1081                 test            70.0               1   \n",
      "\n",
      "   temperature_value  \n",
      "0               21.1  \n",
      "1               20.3  \n",
      "2               19.6  \n",
      "3               21.7  \n",
      "4               21.5  \n",
      "5               21.0  \n",
      "Numpy dataset hum_tmp_sensor/hum_tmp_only_value_test: \n",
      "[68.  21.1 71.  20.3 70.  19.6 69.  21.7 71.  21.5 70.  21.   1. ]\n"
     ]
    },
    {
     "name": "stderr",
     "output_type": "stream",
     "text": [
      "/home/vanessa/PycharmProjects/osh40/ia_model/connectors/postgres.py:71: UserWarning: pandas only supports SQLAlchemy connectable (engine/connection) or database string URI or sqlite3 DBAPI2 connection. Other DBAPI2 objects are not tested. Please consider using SQLAlchemy.\n",
      "  data_df = pd.read_sql_query(sql_command, conn)\n",
      "/home/vanessa/PycharmProjects/osh40/ia_model/connectors/postgres.py:71: UserWarning: pandas only supports SQLAlchemy connectable (engine/connection) or database string URI or sqlite3 DBAPI2 connection. Other DBAPI2 objects are not tested. Please consider using SQLAlchemy.\n",
      "  data_df = pd.read_sql_query(sql_command, conn)\n"
     ]
    },
    {
     "name": "stdout",
     "output_type": "stream",
     "text": [
      "Pandas dataset hum_tmp_sensor/hum_tmp_not_only_value_test: \n",
      "     id humidity_subset_type  humidity_value  humidity_class  \\\n",
      "0  1081                 test            68.0               1   \n",
      "1  1081                 test            71.0               1   \n",
      "2  1081                 test            70.0               1   \n",
      "3  1081                 test            69.0               1   \n",
      "4  1081                 test            71.0               1   \n",
      "5  1081                 test            70.0               1   \n",
      "\n",
      "   temperature_value  \n",
      "0               21.1  \n",
      "1               20.3  \n",
      "2               19.6  \n",
      "3               21.7  \n",
      "4               21.5  \n",
      "5               21.0  \n",
      "Numpy dataset hum_tmp_sensor/hum_tmp_not_only_value_test: \n",
      "[68.  71.  70.  69.  71.  70.  21.1 20.3 19.6 21.7 21.5 21.   1. ]\n"
     ]
    }
   ],
   "source": [
    "# Genereate variation only_value\n",
    "for subset_type in SUBSET_TYPES:\n",
    "    for idx, sensor in enumerate(SENSOR_VALUES):\n",
    "        if idx == 4:\n",
    "            pd_data.generate_hum_tmp_dataset(dataset_src='data_sensors',\n",
    "                                             dataset_dst=sensor.get('dataset_dst').format(subset_type), \n",
    "                                             schemas=sensor.get('sensor').split(','), subset_type=subset_type,\n",
    "                                             only_array=True)\n",
    "        elif idx == 5:\n",
    "            pd_data.generate_hum_tmp_dataset(dataset_src='data_sensors',\n",
    "                                             dataset_dst=sensor.get('dataset_dst').format(subset_type), \n",
    "                                             schemas=sensor.get('sensor').split(','), subset_type=subset_type,\n",
    "                                             only_array=False)\n",
    "        else:\n",
    "            pd_data.generate_dataset(dataset_src='data_sensors',\n",
    "                                     dataset_dst=sensor.get('dataset_dst').format(subset_type),\n",
    "                                     sensor=sensor.get('sensor'), subset_type=subset_type, ds_format='only_values')\n",
    "        \n",
    "        train_df = pd.read_pickle(sensor.get('path_test').format(subset_type,'pkl'))\n",
    "        print('Pandas dataset %s: \\n%s' % (str(sensor.get('dataset_dst').format(subset_type)),\n",
    "                                           str(train_df.head(6))))\n",
    "\n",
    "        train_np = np.load(sensor.get('path_test').format(subset_type,'npy'), allow_pickle=True)\n",
    "        print('Numpy dataset %s: \\n%s' % (str(sensor.get('dataset_dst').format(subset_type)), \n",
    "                                          str(train_np[0])))\n",
    "        "
   ]
  },
  {
   "cell_type": "code",
   "execution_count": null,
   "id": "73aff0d1",
   "metadata": {},
   "outputs": [],
   "source": []
  }
 ],
 "metadata": {
  "kernelspec": {
   "display_name": "Python 3 (ipykernel)",
   "language": "python",
   "name": "python3"
  },
  "language_info": {
   "codemirror_mode": {
    "name": "ipython",
    "version": 3
   },
   "file_extension": ".py",
   "mimetype": "text/x-python",
   "name": "python",
   "nbconvert_exporter": "python",
   "pygments_lexer": "ipython3",
   "version": "3.8.13"
  }
 },
 "nbformat": 4,
 "nbformat_minor": 5
}

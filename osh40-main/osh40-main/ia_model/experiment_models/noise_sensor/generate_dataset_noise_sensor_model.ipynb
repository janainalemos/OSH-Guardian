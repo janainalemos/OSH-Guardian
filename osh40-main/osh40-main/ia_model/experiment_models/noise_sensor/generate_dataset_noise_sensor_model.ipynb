{
 "cells": [
  {
   "cell_type": "markdown",
   "id": "185fec66",
   "metadata": {},
   "source": [
    "## 1. Generate Dataset variations for Noise Sensor"
   ]
  },
  {
   "cell_type": "code",
   "execution_count": 7,
   "id": "b6c44740",
   "metadata": {},
   "outputs": [
    {
     "name": "stdout",
     "output_type": "stream",
     "text": [
      "/home/vanessa/PycharmProjects/osh40\n"
     ]
    }
   ],
   "source": [
    "ROOT_PATH=%cd ..\n",
    "ROOT_PATH='/home/vanessa/PycharmProjects/osh40'"
   ]
  },
  {
   "cell_type": "code",
   "execution_count": 8,
   "id": "7b775395",
   "metadata": {},
   "outputs": [],
   "source": [
    "from utils.preprocess_data import PreprocessData"
   ]
  },
  {
   "cell_type": "markdown",
   "id": "cff7e0f7",
   "metadata": {},
   "source": [
    "### 1.0 Create datasets"
   ]
  },
  {
   "cell_type": "code",
   "execution_count": 9,
   "id": "02b65157",
   "metadata": {},
   "outputs": [],
   "source": [
    "pd_data = PreprocessData()\n",
    "SUBSET_TYPES = ['train', 'valid', 'test']"
   ]
  },
  {
   "cell_type": "code",
   "execution_count": 6,
   "id": "13a88381",
   "metadata": {},
   "outputs": [
    {
     "name": "stderr",
     "output_type": "stream",
     "text": [
      "/home/vanessa/PycharmProjects/osh40/ia_model/connectors/postgres.py:71: UserWarning: pandas only supports SQLAlchemy connectable (engine/connection) or database string URI or sqlite3 DBAPI2 connection. Other DBAPI2 objects are not tested. Please consider using SQLAlchemy.\n",
      "  data_df = pd.read_sql_query(sql_command, conn)\n",
      "/home/vanessa/PycharmProjects/osh40/ia_model/connectors/postgres.py:71: UserWarning: pandas only supports SQLAlchemy connectable (engine/connection) or database string URI or sqlite3 DBAPI2 connection. Other DBAPI2 objects are not tested. Please consider using SQLAlchemy.\n",
      "  data_df = pd.read_sql_query(sql_command, conn)\n",
      "/home/vanessa/PycharmProjects/osh40/ia_model/connectors/postgres.py:71: UserWarning: pandas only supports SQLAlchemy connectable (engine/connection) or database string URI or sqlite3 DBAPI2 connection. Other DBAPI2 objects are not tested. Please consider using SQLAlchemy.\n",
      "  data_df = pd.read_sql_query(sql_command, conn)\n"
     ]
    }
   ],
   "source": [
    "# Genereate variation month_value\n",
    "for subset_type in SUBSET_TYPES:\n",
    "    pd_data.generate_dataset(dataset_src='data_sensors', \n",
    "                             dataset_dst='noise_sensor/noise_{}_month_value'.format(subset_type),\n",
    "                             sensor='noise', subset_type=subset_type, ds_format='month_value')"
   ]
  },
  {
   "cell_type": "code",
   "execution_count": 7,
   "id": "263ef4d5",
   "metadata": {},
   "outputs": [
    {
     "name": "stderr",
     "output_type": "stream",
     "text": [
      "/home/vanessa/PycharmProjects/osh40/ia_model/connectors/postgres.py:71: UserWarning: pandas only supports SQLAlchemy connectable (engine/connection) or database string URI or sqlite3 DBAPI2 connection. Other DBAPI2 objects are not tested. Please consider using SQLAlchemy.\n",
      "  data_df = pd.read_sql_query(sql_command, conn)\n",
      "/home/vanessa/PycharmProjects/osh40/ia_model/connectors/postgres.py:71: UserWarning: pandas only supports SQLAlchemy connectable (engine/connection) or database string URI or sqlite3 DBAPI2 connection. Other DBAPI2 objects are not tested. Please consider using SQLAlchemy.\n",
      "  data_df = pd.read_sql_query(sql_command, conn)\n",
      "/home/vanessa/PycharmProjects/osh40/ia_model/connectors/postgres.py:71: UserWarning: pandas only supports SQLAlchemy connectable (engine/connection) or database string URI or sqlite3 DBAPI2 connection. Other DBAPI2 objects are not tested. Please consider using SQLAlchemy.\n",
      "  data_df = pd.read_sql_query(sql_command, conn)\n"
     ]
    }
   ],
   "source": [
    "# Genereate variation month_hour_value\n",
    "for subset_type in SUBSET_TYPES:\n",
    "    pd_data.generate_dataset(dataset_src='data_sensors', \n",
    "                             dataset_dst='noise_sensor/noise_{}_month_hour_value'.format(subset_type),\n",
    "                             sensor='noise', subset_type=subset_type, ds_format='month_hour_value')"
   ]
  },
  {
   "cell_type": "code",
   "execution_count": 8,
   "id": "8726e335",
   "metadata": {},
   "outputs": [
    {
     "name": "stderr",
     "output_type": "stream",
     "text": [
      "/home/vanessa/PycharmProjects/osh40/ia_model/connectors/postgres.py:71: UserWarning: pandas only supports SQLAlchemy connectable (engine/connection) or database string URI or sqlite3 DBAPI2 connection. Other DBAPI2 objects are not tested. Please consider using SQLAlchemy.\n",
      "  data_df = pd.read_sql_query(sql_command, conn)\n",
      "/home/vanessa/PycharmProjects/osh40/ia_model/connectors/postgres.py:71: UserWarning: pandas only supports SQLAlchemy connectable (engine/connection) or database string URI or sqlite3 DBAPI2 connection. Other DBAPI2 objects are not tested. Please consider using SQLAlchemy.\n",
      "  data_df = pd.read_sql_query(sql_command, conn)\n",
      "/home/vanessa/PycharmProjects/osh40/ia_model/connectors/postgres.py:71: UserWarning: pandas only supports SQLAlchemy connectable (engine/connection) or database string URI or sqlite3 DBAPI2 connection. Other DBAPI2 objects are not tested. Please consider using SQLAlchemy.\n",
      "  data_df = pd.read_sql_query(sql_command, conn)\n"
     ]
    }
   ],
   "source": [
    "# Genereate variation month_day_hour_value\n",
    "for subset_type in SUBSET_TYPES:\n",
    "    pd_data.generate_dataset(dataset_src='data_sensors', \n",
    "                             dataset_dst='noise_sensor/noise_{}_month_day_hour_value'.format(subset_type),\n",
    "                             sensor='noise', subset_type=subset_type, ds_format='month_day_hour_value')"
   ]
  },
  {
   "cell_type": "code",
   "execution_count": 9,
   "id": "397c750a",
   "metadata": {},
   "outputs": [
    {
     "name": "stderr",
     "output_type": "stream",
     "text": [
      "/home/vanessa/PycharmProjects/osh40/ia_model/connectors/postgres.py:71: UserWarning: pandas only supports SQLAlchemy connectable (engine/connection) or database string URI or sqlite3 DBAPI2 connection. Other DBAPI2 objects are not tested. Please consider using SQLAlchemy.\n",
      "  data_df = pd.read_sql_query(sql_command, conn)\n",
      "/home/vanessa/PycharmProjects/osh40/ia_model/connectors/postgres.py:71: UserWarning: pandas only supports SQLAlchemy connectable (engine/connection) or database string URI or sqlite3 DBAPI2 connection. Other DBAPI2 objects are not tested. Please consider using SQLAlchemy.\n",
      "  data_df = pd.read_sql_query(sql_command, conn)\n",
      "/home/vanessa/PycharmProjects/osh40/ia_model/connectors/postgres.py:71: UserWarning: pandas only supports SQLAlchemy connectable (engine/connection) or database string URI or sqlite3 DBAPI2 connection. Other DBAPI2 objects are not tested. Please consider using SQLAlchemy.\n",
      "  data_df = pd.read_sql_query(sql_command, conn)\n"
     ]
    }
   ],
   "source": [
    "# Genereate variation full_date_value\n",
    "for subset_type in SUBSET_TYPES:\n",
    "    pd_data.generate_dataset(dataset_src='data_sensors', \n",
    "                             dataset_dst='datasets/noise_sensor/noise_{}_full_date_value'.format(subset_type),\n",
    "                             sensor='noise', subset_type=subset_type, ds_format='full_date_value')"
   ]
  },
  {
   "cell_type": "code",
   "execution_count": 10,
   "id": "37ec615f",
   "metadata": {},
   "outputs": [
    {
     "name": "stderr",
     "output_type": "stream",
     "text": [
      "/home/vanessa/PycharmProjects/osh40/ia_model/connectors/postgres.py:71: UserWarning: pandas only supports SQLAlchemy connectable (engine/connection) or database string URI or sqlite3 DBAPI2 connection. Other DBAPI2 objects are not tested. Please consider using SQLAlchemy.\n",
      "  data_df = pd.read_sql_query(sql_command, conn)\n",
      "/home/vanessa/PycharmProjects/osh40/ia_model/connectors/postgres.py:71: UserWarning: pandas only supports SQLAlchemy connectable (engine/connection) or database string URI or sqlite3 DBAPI2 connection. Other DBAPI2 objects are not tested. Please consider using SQLAlchemy.\n",
      "  data_df = pd.read_sql_query(sql_command, conn)\n",
      "/home/vanessa/PycharmProjects/osh40/ia_model/connectors/postgres.py:71: UserWarning: pandas only supports SQLAlchemy connectable (engine/connection) or database string URI or sqlite3 DBAPI2 connection. Other DBAPI2 objects are not tested. Please consider using SQLAlchemy.\n",
      "  data_df = pd.read_sql_query(sql_command, conn)\n"
     ]
    }
   ],
   "source": [
    "# Genereate variation only_value\n",
    "for subset_type in SUBSET_TYPES:\n",
    "    pd_data.generate_dataset(dataset_src='data_sensors',\n",
    "                             dataset_dst='noise_sensor/noise_{}_only_value'.format(subset_type),\n",
    "                             sensor='noise', subset_type=subset_type, ds_format='only_values')"
   ]
  },
  {
   "cell_type": "code",
   "execution_count": null,
   "id": "0d644f37",
   "metadata": {},
   "outputs": [],
   "source": []
  }
 ],
 "metadata": {
  "kernelspec": {
   "display_name": "Python 3 (ipykernel)",
   "language": "python",
   "name": "python3"
  },
  "language_info": {
   "codemirror_mode": {
    "name": "ipython",
    "version": 3
   },
   "file_extension": ".py",
   "mimetype": "text/x-python",
   "name": "python",
   "nbconvert_exporter": "python",
   "pygments_lexer": "ipython3",
   "version": "3.8.13"
  }
 },
 "nbformat": 4,
 "nbformat_minor": 5
}
